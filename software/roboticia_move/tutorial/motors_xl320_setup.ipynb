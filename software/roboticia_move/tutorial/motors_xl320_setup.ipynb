{
 "cells": [
  {
   "cell_type": "markdown",
   "metadata": {},
   "source": [
    "# Les commandes de bas niveau pour configurer un moteur xl-320"
   ]
  },
  {
   "cell_type": "markdown",
   "metadata": {},
   "source": [
    "Importer les modules necessaires."
   ]
  },
  {
   "cell_type": "code",
   "execution_count": 1,
   "metadata": {},
   "outputs": [],
   "source": [
    "import pypot.dynamixel\n",
    "import time"
   ]
  },
  {
   "cell_type": "markdown",
   "metadata": {},
   "source": [
    "### Connecter les moteurs au niveau logiciel."
   ]
  },
  {
   "cell_type": "markdown",
   "metadata": {},
   "source": [
    "Trouver le port sur lequel est branché le moteur "
   ]
  },
  {
   "cell_type": "code",
   "execution_count": 2,
   "metadata": {},
   "outputs": [
    {
     "name": "stdout",
     "output_type": "stream",
     "text": [
      "['/dev/ttyAMA0']\n"
     ]
    }
   ],
   "source": [
    "print(pypot.dynamixel.get_available_ports())"
   ]
  },
  {
   "cell_type": "markdown",
   "metadata": {},
   "source": [
    "Ouvrir une communication série avec le moteur :"
   ]
  },
  {
   "cell_type": "code",
   "execution_count": 2,
   "metadata": {},
   "outputs": [],
   "source": [
    "dxl_io = pypot.dynamixel.Dxl320IO('/dev/ttyAMA0')"
   ]
  },
  {
   "cell_type": "markdown",
   "metadata": {},
   "source": [
    "Cherche les moteurs connectés sur le bus (il en faut un seul avec l'ID 1 pour la première utilisation) :"
   ]
  },
  {
   "cell_type": "code",
   "execution_count": 5,
   "metadata": {},
   "outputs": [],
   "source": [
    "dxl_io.disable_torque({1,2})"
   ]
  },
  {
   "cell_type": "code",
   "execution_count": 8,
   "metadata": {},
   "outputs": [
    {
     "name": "stdout",
     "output_type": "stream",
     "text": [
      "[1, 2, 3, 4, 5]\n",
      "5\n"
     ]
    }
   ],
   "source": [
    "motors = (dxl_io.scan(range(60)))\n",
    "print(motors)\n",
    "print(len(motors))"
   ]
  },
  {
   "cell_type": "markdown",
   "metadata": {},
   "source": [
    "Modifier l'identifiant d'un moteur (ID) :"
   ]
  },
  {
   "cell_type": "code",
   "execution_count": 7,
   "metadata": {},
   "outputs": [],
   "source": [
    "#Remplace l'ID 1 par 2 sur le moteur 1.\n",
    "#Attention, les moteurs doivents tous avoir une ID différente sur le même bus. \n",
    "dxl_io.change_id({54:4}) "
   ]
  },
  {
   "cell_type": "markdown",
   "metadata": {},
   "source": [
    "Retourne la position cible pour le moteur 1 :"
   ]
  },
  {
   "cell_type": "code",
   "execution_count": 5,
   "metadata": {},
   "outputs": [
    {
     "data": {
      "text/plain": [
       "(91.35, -4.84, -48.53, -86.36, -17.16)"
      ]
     },
     "execution_count": 5,
     "metadata": {},
     "output_type": "execute_result"
    }
   ],
   "source": [
    "dxl_io.get_present_position(motors)"
   ]
  },
  {
   "cell_type": "code",
   "execution_count": 18,
   "metadata": {},
   "outputs": [
    {
     "data": {
      "text/plain": [
       "(-4.55, -48.83, 91.06, -4.84, -17.16)"
      ]
     },
     "execution_count": 18,
     "metadata": {},
     "output_type": "execute_result"
    }
   ],
   "source": [
    "dxl_io.get_present_position(motors)"
   ]
  },
  {
   "cell_type": "markdown",
   "metadata": {},
   "source": [
    "Donne un objectif de position pour le moteur 1 :"
   ]
  },
  {
   "cell_type": "code",
   "execution_count": 10,
   "metadata": {},
   "outputs": [],
   "source": [
    "dxl_io.set_goal_position({1: 60})"
   ]
  },
  {
   "cell_type": "markdown",
   "metadata": {},
   "source": [
    "Ferme la connexion avec les moteurs :"
   ]
  },
  {
   "cell_type": "code",
   "execution_count": 10,
   "metadata": {},
   "outputs": [],
   "source": [
    "dxl_io.set_return_delay_time({1:250,2:250,3:250,4:250,5:250})"
   ]
  },
  {
   "cell_type": "code",
   "execution_count": 25,
   "metadata": {},
   "outputs": [],
   "source": [
    "dxl_io.set_return_delay_time({1:0,2:0,3:0,4:0,5:0})"
   ]
  },
  {
   "cell_type": "code",
   "execution_count": 11,
   "metadata": {},
   "outputs": [
    {
     "data": {
      "text/plain": [
       "(250, 250, 250, 250, 250)"
      ]
     },
     "execution_count": 11,
     "metadata": {},
     "output_type": "execute_result"
    }
   ],
   "source": [
    "dxl_io.get_return_delay_time({1,2,3,4,5})"
   ]
  },
  {
   "cell_type": "code",
   "execution_count": 35,
   "metadata": {},
   "outputs": [
    {
     "name": "stdout",
     "output_type": "stream",
     "text": [
      "4.47 ms ± 75.2 µs per loop (mean ± std. dev. of 7 runs, 100 loops each)\n"
     ]
    }
   ],
   "source": [
    "%timeit dxl_io.get_present_position({1,2,3,4,5})"
   ]
  },
  {
   "cell_type": "code",
   "execution_count": 33,
   "metadata": {},
   "outputs": [
    {
     "data": {
      "text/plain": [
       "(('Input Voltage Error', 'Overheating Error'),\n",
       " ('Input Voltage Error', 'Overheating Error'),\n",
       " ('Input Voltage Error', 'Overheating Error'),\n",
       " ('Input Voltage Error', 'Overheating Error'),\n",
       " ('Input Voltage Error', 'Overheating Error'))"
      ]
     },
     "execution_count": 33,
     "metadata": {},
     "output_type": "execute_result"
    }
   ],
   "source": [
    "dxl_io.get_alarm_shutdown({1,2,3,4,5})"
   ]
  },
  {
   "cell_type": "code",
   "execution_count": 32,
   "metadata": {},
   "outputs": [],
   "source": [
    "dxl_io.set_alarm_shutdown({1:('Overheating Error','Input Voltage Error'),2:('Overheating Error','Input Voltage Error'),3:('Overheating Error','Input Voltage Error'),4:('Overheating Error','Input Voltage Error'),5:('Overheating Error','Input Voltage Error')})"
   ]
  },
  {
   "cell_type": "code",
   "execution_count": 8,
   "metadata": {},
   "outputs": [],
   "source": [
    "dxl_io.set_alarm_shutdown({2:('Overheating Error',)})"
   ]
  },
  {
   "cell_type": "code",
   "execution_count": 18,
   "metadata": {},
   "outputs": [
    {
     "data": {
      "text/plain": [
       "('joint', 'joint', 'joint', 'wheel', 'wheel')"
      ]
     },
     "execution_count": 18,
     "metadata": {},
     "output_type": "execute_result"
    }
   ],
   "source": [
    "dxl_io.get_control_mode(motors)"
   ]
  },
  {
   "cell_type": "code",
   "execution_count": 17,
   "metadata": {},
   "outputs": [],
   "source": [
    "dxl_io.set_control_mode({4:'wheel',5:'wheel'})"
   ]
  },
  {
   "cell_type": "code",
   "execution_count": 14,
   "metadata": {},
   "outputs": [
    {
     "data": {
      "text/plain": [
       "((6.0, 9.0), (6.0, 9.0), (6.0, 9.0), (6.0, 9.0), (6.0, 9.0))"
      ]
     },
     "execution_count": 14,
     "metadata": {},
     "output_type": "execute_result"
    }
   ],
   "source": [
    "dxl_io.get_voltage_limit(motors)"
   ]
  },
  {
   "cell_type": "code",
   "execution_count": 31,
   "metadata": {},
   "outputs": [],
   "source": [
    "dxl_io._sync_read = True"
   ]
  },
  {
   "cell_type": "code",
   "execution_count": 9,
   "metadata": {},
   "outputs": [
    {
     "name": "stdout",
     "output_type": "stream",
     "text": [
      "Help on Dxl320IO in module pypot.dynamixel.io.io_320 object:\n",
      "\n",
      "class Dxl320IO(pypot.dynamixel.io.abstract_io.AbstractDxlIO)\n",
      " |  Low-level class to handle the serial communication with the robotis motors.\n",
      " |  \n",
      " |  Method resolution order:\n",
      " |      Dxl320IO\n",
      " |      pypot.dynamixel.io.abstract_io.AbstractDxlIO\n",
      " |      builtins.object\n",
      " |  \n",
      " |  Methods defined here:\n",
      " |  \n",
      " |  factory_reset(self, ids, except_ids=False, except_baudrate_and_ids=False)\n",
      " |      Reset all motors on the bus to their factory default settings.\n",
      " |  \n",
      " |  get_LED_color(self, ids, **kwargs)\n",
      " |      Gets LED color from the specified motors.\n",
      " |  \n",
      " |  get_alarm_shutdown(self, ids, **kwargs)\n",
      " |      Gets alarm shutdown from the specified motors.\n",
      " |  \n",
      " |  get_angle_limit(self, ids, **kwargs)\n",
      " |      Gets angle limit from the specified motors.\n",
      " |  \n",
      " |  get_control_mode(self, ids, **kwargs)\n",
      " |      Gets control mode from the specified motors.\n",
      " |  \n",
      " |  get_firmware(self, ids, **kwargs)\n",
      " |      Gets firmware from the specified motors.\n",
      " |  \n",
      " |  get_goal_position(self, ids, **kwargs)\n",
      " |      Gets goal position from the specified motors.\n",
      " |  \n",
      " |  get_goal_position_speed_load(self, ids)\n",
      " |  \n",
      " |  get_highest_temperature_limit(self, ids, **kwargs)\n",
      " |      Gets highest temperature limit from the specified motors.\n",
      " |  \n",
      " |  get_max_torque(self, ids, **kwargs)\n",
      " |      Gets max torque from the specified motors.\n",
      " |  \n",
      " |  get_moving_speed(self, ids, **kwargs)\n",
      " |      Gets moving speed from the specified motors.\n",
      " |  \n",
      " |  get_present_load(self, ids, **kwargs)\n",
      " |      Gets present load from the specified motors.\n",
      " |  \n",
      " |  get_present_position(self, ids, **kwargs)\n",
      " |      Gets present position from the specified motors.\n",
      " |  \n",
      " |  get_present_position_speed_load(self, ids, **kwargs)\n",
      " |      Gets present position speed load from the specified motors.\n",
      " |  \n",
      " |  get_present_speed(self, ids, **kwargs)\n",
      " |      Gets present speed from the specified motors.\n",
      " |  \n",
      " |  get_present_temperature(self, ids, **kwargs)\n",
      " |      Gets present temperature from the specified motors.\n",
      " |  \n",
      " |  get_present_voltage(self, ids, **kwargs)\n",
      " |      Gets present voltage from the specified motors.\n",
      " |  \n",
      " |  get_return_delay_time(self, ids, **kwargs)\n",
      " |      Gets return delay time from the specified motors.\n",
      " |  \n",
      " |  get_torque_limit(self, ids, **kwargs)\n",
      " |      Gets torque limit from the specified motors.\n",
      " |  \n",
      " |  get_voltage_limit(self, ids, **kwargs)\n",
      " |      Gets voltage limit from the specified motors.\n",
      " |  \n",
      " |  is_led_on(self, ids, **kwargs)\n",
      " |      Gets LED from the specified motors.\n",
      " |  \n",
      " |  is_moving(self, ids, **kwargs)\n",
      " |      Gets moving from the specified motors.\n",
      " |  \n",
      " |  is_torque_enabled(self, ids, **kwargs)\n",
      " |      Gets torque_enable from the specified motors.\n",
      " |  \n",
      " |  set_LED_color(self, value_for_id, **kwargs)\n",
      " |      Sets LED color to the specified motors.\n",
      " |  \n",
      " |  set_alarm_shutdown(self, value_for_id, **kwargs)\n",
      " |      Sets alarm shutdown to the specified motors.\n",
      " |  \n",
      " |  set_angle_limit(self, value_for_id, **kwargs)\n",
      " |      Sets angle limit to the specified motors.\n",
      " |  \n",
      " |  set_control_mode(self, value_for_id, **kwargs)\n",
      " |      Sets control mode to the specified motors.\n",
      " |  \n",
      " |  set_goal_position(self, value_for_id, **kwargs)\n",
      " |      Sets goal position to the specified motors.\n",
      " |  \n",
      " |  set_goal_position_speed_load(self, value_for_ids)\n",
      " |  \n",
      " |  set_highest_temperature_limit(self, value_for_id, **kwargs)\n",
      " |      Sets highest temperature limit to the specified motors.\n",
      " |  \n",
      " |  set_joint_mode(self, ids)\n",
      " |  \n",
      " |  set_max_torque(self, value_for_id, **kwargs)\n",
      " |      Sets max torque to the specified motors.\n",
      " |  \n",
      " |  set_moving_speed(self, value_for_id, **kwargs)\n",
      " |      Sets moving speed to the specified motors.\n",
      " |  \n",
      " |  set_return_delay_time(self, value_for_id, **kwargs)\n",
      " |      Sets return delay time to the specified motors.\n",
      " |  \n",
      " |  set_torque_limit(self, value_for_id, **kwargs)\n",
      " |      Sets torque limit to the specified motors.\n",
      " |  \n",
      " |  set_voltage_limit(self, value_for_id, **kwargs)\n",
      " |      Sets voltage limit to the specified motors.\n",
      " |  \n",
      " |  set_wheel_mode(self, ids)\n",
      " |  \n",
      " |  ----------------------------------------------------------------------\n",
      " |  Methods inherited from pypot.dynamixel.io.abstract_io.AbstractDxlIO:\n",
      " |  \n",
      " |  __del__(self)\n",
      " |  \n",
      " |  __enter__(self)\n",
      " |  \n",
      " |  __exit__(self, exc_type, exc_value, traceback)\n",
      " |  \n",
      " |  __init__(self, port, baudrate=1000000, timeout=0.05, use_sync_read=False, error_handler_cls=None, convert=True)\n",
      " |      At instanciation, it opens the serial port and sets the communication parameters.\n",
      " |      \n",
      " |      :param string port: the serial port to use (e.g. Unix (/dev/tty...), Windows (COM...)).\n",
      " |      :param int baudrate: default for new motors: 57600, for PyPot motors: 1000000\n",
      " |      :param float timeout: read timeout in seconds\n",
      " |      :param bool use_sync_read: whether or not to use the SYNC_READ instruction\n",
      " |      :param error_handler: set a handler that will receive the different errors\n",
      " |      :type error_handler: :py:class:`~pypot.dynamixel.error.DxlErrorHandler`\n",
      " |      :param bool convert: whether or not convert values to units expressed in the standard system\n",
      " |      \n",
      " |      :raises: :py:exc:`~pypot.dynamixel.io.DxlError` if the port is already used.\n",
      " |  \n",
      " |  __repr__(self)\n",
      " |      Return repr(self).\n",
      " |  \n",
      " |  change_baudrate(self, baudrate_for_ids)\n",
      " |      Changes the baudrate of the specified motors.\n",
      " |  \n",
      " |  change_id(self, new_id_for_id)\n",
      " |      Changes the id of the specified motors (each id must be unique on the bus).\n",
      " |  \n",
      " |  close(self, _force_lock=False)\n",
      " |      Closes the serial communication if opened.\n",
      " |  \n",
      " |  disable_torque(self, ids)\n",
      " |      Disables torque of the motors with the specified ids.\n",
      " |  \n",
      " |  enable_torque(self, ids)\n",
      " |      Enables torque of the motors with the specified ids.\n",
      " |  \n",
      " |  flush(self, _force_lock=False)\n",
      " |      Flushes the serial communication (both input and output).\n",
      " |  \n",
      " |  get_control_table(self, ids, **kwargs)\n",
      " |      Gets the full control table for the specified motors.\n",
      " |      \n",
      " |      ..note:: This function requires the model for each motor to be known. Querring this additional information might add some extra delay.\n",
      " |  \n",
      " |  get_model(self, ids)\n",
      " |      Gets the model for the specified motors.\n",
      " |  \n",
      " |  get_pid_gain(self, ids, **kwargs)\n",
      " |      Gets the pid gain for the specified motors.\n",
      " |  \n",
      " |  get_status_return_level(self, ids, **kwargs)\n",
      " |      Gets the status level for the specified motors.\n",
      " |  \n",
      " |  open(self, port, baudrate=1000000, timeout=0.05)\n",
      " |      Opens a new serial communication (closes the previous communication if needed).\n",
      " |      \n",
      " |      :raises: :py:exc:`~pypot.dynamixel.io.DxlError` if the port is already used.\n",
      " |  \n",
      " |  ping(self, id)\n",
      " |      Pings the motor with the specified id.\n",
      " |      \n",
      " |      .. note:: The motor id should always be included in [0, 253]. 254 is used for broadcast.\n",
      " |  \n",
      " |  scan(self, ids=[0, 1, 2, 3, 4, 5, 6, 7, 8, 9, 10, 11, 12, 13, 14, 15, 16, 17, 18, 19, 20, 21, 22, 23, 24, 25, 26, 27, 28, 29, 30, 31, 32, 33, 34, 35, 36, 37, 38, 39, 40, 41, 42, 43, 44, 45, 46, 47, 48, 49, 50, 51, 52, 53, 54, 55, 56, 57, 58, 59, 60, 61, 62, 63, 64, 65, 66, 67, 68, 69, 70, 71, 72, 73, 74, 75, 76, 77, 78, 79, 80, 81, 82, 83, 84, 85, 86, 87, 88, 89, 90, 91, 92, 93, 94, 95, 96, 97, 98, 99, 100, 101, 102, 103, 104, 105, 106, 107, 108, 109, 110, 111, 112, 113, 114, 115, 116, 117, 118, 119, 120, 121, 122, 123, 124, 125, 126, 127, 128, 129, 130, 131, 132, 133, 134, 135, 136, 137, 138, 139, 140, 141, 142, 143, 144, 145, 146, 147, 148, 149, 150, 151, 152, 153, 154, 155, 156, 157, 158, 159, 160, 161, 162, 163, 164, 165, 166, 167, 168, 169, 170, 171, 172, 173, 174, 175, 176, 177, 178, 179, 180, 181, 182, 183, 184, 185, 186, 187, 188, 189, 190, 191, 192, 193, 194, 195, 196, 197, 198, 199, 200, 201, 202, 203, 204, 205, 206, 207, 208, 209, 210, 211, 212, 213, 214, 215, 216, 217, 218, 219, 220, 221, 222, 223, 224, 225, 226, 227, 228, 229, 230, 231, 232, 233, 234, 235, 236, 237, 238, 239, 240, 241, 242, 243, 244, 245, 246, 247, 248, 249, 250, 251, 252, 253])\n",
      " |      Pings all ids within the specified list, by default it finds all the motors connected to the bus.\n",
      " |  \n",
      " |  set_pid_gain(self, pid_for_id, **kwargs)\n",
      " |      Sets the pid gain to the specified motors.\n",
      " |  \n",
      " |  set_status_return_level(self, srl_for_id, **kwargs)\n",
      " |      Sets status return level to the specified motors.\n",
      " |  \n",
      " |  switch_led_off(self, ids)\n",
      " |      Switches off the LED of the motors with the specified ids.\n",
      " |  \n",
      " |  switch_led_on(self, ids)\n",
      " |      Switches on the LED of the motors with the specified ids.\n",
      " |  \n",
      " |  ----------------------------------------------------------------------\n",
      " |  Class methods inherited from pypot.dynamixel.io.abstract_io.AbstractDxlIO:\n",
      " |  \n",
      " |  get_used_ports() from builtins.type\n",
      " |  \n",
      " |  ----------------------------------------------------------------------\n",
      " |  Data descriptors inherited from pypot.dynamixel.io.abstract_io.AbstractDxlIO:\n",
      " |  \n",
      " |  __dict__\n",
      " |      dictionary for instance variables (if defined)\n",
      " |  \n",
      " |  __weakref__\n",
      " |      list of weak references to the object (if defined)\n",
      " |  \n",
      " |  baudrate\n",
      " |      Baudrate used by the :class:`~pypot.dynamixel.io.DxlIO`. If set, will re-open a new connection.\n",
      " |  \n",
      " |  closed\n",
      " |      Checks if the connection is closed.\n",
      " |  \n",
      " |  port\n",
      " |      Port used by the :class:`~pypot.dynamixel.io.DxlIO`. If set, will re-open a new connection.\n",
      " |  \n",
      " |  timeout\n",
      " |      Timeout used by the :class:`~pypot.dynamixel.io.DxlIO`. If set, will re-open a new connection.\n",
      "\n"
     ]
    }
   ],
   "source": [
    "help(dxl_io)"
   ]
  },
  {
   "cell_type": "code",
   "execution_count": 13,
   "metadata": {},
   "outputs": [
    {
     "name": "stdout",
     "output_type": "stream",
     "text": [
      "4.43 ms ± 83.2 µs per loop (mean ± std. dev. of 7 runs, 100 loops each)\n"
     ]
    }
   ],
   "source": [
    "%timeit dxl_io.get_present_position({1,2,3,4,5})"
   ]
  },
  {
   "cell_type": "code",
   "execution_count": 13,
   "metadata": {},
   "outputs": [],
   "source": [
    "dxl_io.close()"
   ]
  },
  {
   "cell_type": "markdown",
   "metadata": {},
   "source": [
    "### Contrôler plusieurs moteurs en continue"
   ]
  },
  {
   "cell_type": "code",
   "execution_count": 19,
   "metadata": {},
   "outputs": [],
   "source": [
    "from pypot.dynamixel import autodetect_robot\n",
    "my_robot = autodetect_robot()"
   ]
  },
  {
   "cell_type": "markdown",
   "metadata": {},
   "source": [
    "Afficher les moteurs de my_robot :"
   ]
  },
  {
   "cell_type": "code",
   "execution_count": 22,
   "metadata": {},
   "outputs": [
    {
     "data": {
      "text/plain": [
       "[<DxlMotor name=motor_1 id=1 pos=117.45>,\n",
       " <DxlMotor name=motor_2 id=2 pos=-72.87>,\n",
       " <DxlMotor name=motor_3 id=3 pos=-19.5>,\n",
       " <DxlMotor name=motor_4 id=4 pos=-19.21>,\n",
       " <DxlMotor name=motor_5 id=5 pos=-80.79>,\n",
       " <DxlMotor name=motor_6 id=6 pos=-19.79>]"
      ]
     },
     "execution_count": 22,
     "metadata": {},
     "output_type": "execute_result"
    }
   ],
   "source": [
    "my_robot.motors"
   ]
  },
  {
   "cell_type": "markdown",
   "metadata": {},
   "source": [
    "Faire bouger le moteur 2 jusqu'à la position 0 degrés en 2 secondes :"
   ]
  },
  {
   "cell_type": "code",
   "execution_count": 23,
   "metadata": {
    "collapsed": true
   },
   "outputs": [],
   "source": [
    "my_robot.compliant = False"
   ]
  },
  {
   "cell_type": "code",
   "execution_count": 26,
   "metadata": {},
   "outputs": [],
   "source": [
    "my_robot.motor_2.goto_position(0,2)"
   ]
  },
  {
   "cell_type": "markdown",
   "metadata": {
    "collapsed": true
   },
   "source": [
    "Aller plus loin dans les commandes possibles : \n",
    "\n",
    "La documentation de Pypot : https://poppy-project.github.io/pypot/"
   ]
  },
  {
   "cell_type": "code",
   "execution_count": 12,
   "metadata": {},
   "outputs": [],
   "source": [
    "from pypot.creatures import RoboticiaFirst"
   ]
  },
  {
   "cell_type": "code",
   "execution_count": 13,
   "metadata": {},
   "outputs": [],
   "source": [
    "robot = RoboticiaFirst()"
   ]
  },
  {
   "cell_type": "code",
   "execution_count": 14,
   "metadata": {},
   "outputs": [
    {
     "data": {
      "text/plain": [
       "<Robot motors=[<DxlMotor name=m1 id=1 pos=-59.09>, <DxlMotor name=m2 id=2 pos=0.15>, <DxlMotor name=m3 id=3 pos=129.74>]>"
      ]
     },
     "execution_count": 14,
     "metadata": {},
     "output_type": "execute_result"
    }
   ],
   "source": [
    "robot"
   ]
  },
  {
   "cell_type": "code",
   "execution_count": 18,
   "metadata": {},
   "outputs": [],
   "source": [
    "robot.m2.goal_position = 60"
   ]
  },
  {
   "cell_type": "code",
   "execution_count": 17,
   "metadata": {},
   "outputs": [],
   "source": [
    "robot.compliant = False"
   ]
  },
  {
   "cell_type": "code",
   "execution_count": 19,
   "metadata": {},
   "outputs": [],
   "source": [
    "robot.close()"
   ]
  },
  {
   "cell_type": "code",
   "execution_count": 20,
   "metadata": {},
   "outputs": [],
   "source": [
    "from pypot.robot.config import from_config"
   ]
  },
  {
   "cell_type": "code",
   "execution_count": 21,
   "metadata": {},
   "outputs": [
    {
     "ename": "TypeError",
     "evalue": "string indices must be integers",
     "output_type": "error",
     "traceback": [
      "\u001b[0;31m---------------------------------------------------------------------------\u001b[0m",
      "\u001b[0;31mTypeError\u001b[0m                                 Traceback (most recent call last)",
      "\u001b[0;32m<ipython-input-21-96deb4aad1be>\u001b[0m in \u001b[0;36m<module>\u001b[0;34m()\u001b[0m\n\u001b[0;32m----> 1\u001b[0;31m \u001b[0mfrom_config\u001b[0m\u001b[0;34m(\u001b[0m\u001b[0;34m\"/usr/local/lib/python3.5/dist-packages/roboticia_move/configuration/roboticia_move.json\"\u001b[0m\u001b[0;34m)\u001b[0m\u001b[0;34m\u001b[0m\u001b[0m\n\u001b[0m",
      "\u001b[0;32m/usr/local/lib/python3.5/dist-packages/pypot/robot/config.py\u001b[0m in \u001b[0;36mfrom_config\u001b[0;34m(config, strict, sync, use_dummy_io, **extra)\u001b[0m\n\u001b[1;32m     43\u001b[0m     \u001b[0mlogger\u001b[0m\u001b[0;34m.\u001b[0m\u001b[0minfo\u001b[0m\u001b[0;34m(\u001b[0m\u001b[0;34m'Loading config... '\u001b[0m\u001b[0;34m,\u001b[0m \u001b[0mextra\u001b[0m\u001b[0;34m=\u001b[0m\u001b[0;34m{\u001b[0m\u001b[0;34m'config'\u001b[0m\u001b[0;34m:\u001b[0m \u001b[0mconfig\u001b[0m\u001b[0;34m}\u001b[0m\u001b[0;34m)\u001b[0m\u001b[0;34m\u001b[0m\u001b[0m\n\u001b[1;32m     44\u001b[0m \u001b[0;34m\u001b[0m\u001b[0m\n\u001b[0;32m---> 45\u001b[0;31m     \u001b[0malias\u001b[0m \u001b[0;34m=\u001b[0m \u001b[0mconfig\u001b[0m\u001b[0;34m[\u001b[0m\u001b[0;34m'motorgroups'\u001b[0m\u001b[0;34m]\u001b[0m\u001b[0;34m\u001b[0m\u001b[0m\n\u001b[0m\u001b[1;32m     46\u001b[0m \u001b[0;34m\u001b[0m\u001b[0m\n\u001b[1;32m     47\u001b[0m     \u001b[0;31m# Instatiate the different motor controllers\u001b[0m\u001b[0;34m\u001b[0m\u001b[0;34m\u001b[0m\u001b[0m\n",
      "\u001b[0;31mTypeError\u001b[0m: string indices must be integers"
     ]
    }
   ],
   "source": [
    "from_config(\"/usr/local/lib/python3.5/dist-packages/roboticia_move/configuration/roboticia_move.json\")"
   ]
  },
  {
   "cell_type": "code",
   "execution_count": null,
   "metadata": {},
   "outputs": [],
   "source": []
  }
 ],
 "metadata": {
  "kernelspec": {
   "display_name": "Python 3",
   "language": "python",
   "name": "python3"
  },
  "language_info": {
   "codemirror_mode": {
    "name": "ipython",
    "version": 3
   },
   "file_extension": ".py",
   "mimetype": "text/x-python",
   "name": "python",
   "nbconvert_exporter": "python",
   "pygments_lexer": "ipython3",
   "version": "3.5.3"
  }
 },
 "nbformat": 4,
 "nbformat_minor": 1
}
